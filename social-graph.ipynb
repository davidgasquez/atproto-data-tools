{
 "cells": [
  {
   "cell_type": "code",
   "execution_count": 2,
   "metadata": {},
   "outputs": [],
   "source": [
    "from atproto import Client\n",
    "import os\n",
    "\n",
    "client = Client()\n",
    "profile = client.login(os.getenv('BSKY_USERNAME'), os.getenv('BSKY_PASSWORD'))"
   ]
  },
  {
   "cell_type": "code",
   "execution_count": 2,
   "metadata": {},
   "outputs": [],
   "source": [
    "cursor = None\n",
    "databs_posts = []\n",
    "\n",
    "while True:\n",
    "    fetched = posts = client.app.bsky.feed.search_posts(params={'q': '#databs', 'cursor': cursor})\n",
    "    databs_posts = databs_posts + fetched.posts\n",
    "\n",
    "    if not fetched.cursor:\n",
    "        break\n",
    "\n",
    "    cursor = fetched.cursor"
   ]
  },
  {
   "cell_type": "code",
   "execution_count": 3,
   "metadata": {},
   "outputs": [],
   "source": [
    "unique_authors = list(set(post.author.handle for post in databs_posts))"
   ]
  },
  {
   "cell_type": "code",
   "execution_count": null,
   "metadata": {},
   "outputs": [],
   "source": [
    "print(len(unique_authors))"
   ]
  },
  {
   "cell_type": "code",
   "execution_count": 5,
   "metadata": {},
   "outputs": [],
   "source": [
    "def get_all_follows(author):\n",
    "    cursor = None\n",
    "    follows = []\n",
    "    while True:\n",
    "        fetched = client.app.bsky.graph.get_follows(params={'actor': author, 'cursor': cursor})\n",
    "        follows = follows + fetched.follows\n",
    "        if not fetched.cursor:\n",
    "            break\n",
    "        cursor = fetched.cursor\n",
    "    return follows"
   ]
  },
  {
   "cell_type": "code",
   "execution_count": null,
   "metadata": {},
   "outputs": [],
   "source": [
    "from tqdm import tqdm\n",
    "import time\n",
    "\n",
    "with open('databs.csv', 'w') as f:\n",
    "\n",
    "    time.sleep(2)\n",
    "\n",
    "    f.write(\"source,target,source_avatar_url,source_posts_count,source_followers_count,source_follows_count\\n\")\n",
    "\n",
    "    for source in tqdm(unique_authors):\n",
    "\n",
    "        try:\n",
    "            author_follows = get_all_follows(source)\n",
    "            source_actor = client.app.bsky.actor.get_profile(params={'actor': source})\n",
    "        except Exception as e:\n",
    "            print(f\"Error processing author {source}: {str(e)}\")\n",
    "            continue\n",
    "\n",
    "        for follow in author_follows:\n",
    "            f.write(f\"{source},{follow.handle},{source_actor.avatar},{source_actor.posts_count},{source_actor.followers_count},{source_actor.follows_count}\\n\")\n"
   ]
  }
 ],
 "metadata": {
  "kernelspec": {
   "display_name": ".venv",
   "language": "python",
   "name": "python3"
  },
  "language_info": {
   "codemirror_mode": {
    "name": "ipython",
    "version": 3
   },
   "file_extension": ".py",
   "mimetype": "text/x-python",
   "name": "python",
   "nbconvert_exporter": "python",
   "pygments_lexer": "ipython3",
   "version": "3.12.7"
  }
 },
 "nbformat": 4,
 "nbformat_minor": 2
}
