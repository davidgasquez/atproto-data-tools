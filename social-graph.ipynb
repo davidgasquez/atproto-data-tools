{
 "cells": [
  {
   "cell_type": "code",
   "execution_count": 1,
   "metadata": {},
   "outputs": [],
   "source": [
    "from atproto import Client\n",
    "import os\n",
    "\n",
    "client = Client()\n",
    "profile = client.login(os.getenv('USERNAME'), os.getenv('PASSWORD'))"
   ]
  },
  {
   "cell_type": "code",
   "execution_count": 2,
   "metadata": {},
   "outputs": [],
   "source": [
    "cursor = None\n",
    "databs_posts = []\n",
    "\n",
    "while True:\n",
    "    fetched = posts = client.app.bsky.feed.search_posts(params={'q': '#databs', 'cursor': cursor})\n",
    "    databs_posts = databs_posts + fetched.posts\n",
    "\n",
    "    if not fetched.cursor:\n",
    "        break\n",
    "\n",
    "    cursor = fetched.cursor"
   ]
  },
  {
   "cell_type": "code",
   "execution_count": 3,
   "metadata": {},
   "outputs": [],
   "source": [
    "def get_all_follows(author):\n",
    "    cursor = None\n",
    "    follows = []\n",
    "    while True:\n",
    "        fetched = client.app.bsky.graph.get_follows(params={'actor': author, 'cursor': cursor})\n",
    "        follows = follows + fetched.follows\n",
    "        if not fetched.cursor:\n",
    "            break\n",
    "        cursor = fetched.cursor\n",
    "    return follows"
   ]
  },
  {
   "cell_type": "code",
   "execution_count": 5,
   "metadata": {},
   "outputs": [
    {
     "name": "stderr",
     "output_type": "stream",
     "text": [
      "100%|██████████| 50/50 [02:22<00:00,  2.85s/it]\n"
     ]
    }
   ],
   "source": [
    "from tqdm import tqdm\n",
    "\n",
    "with open('databs.csv', 'w') as f:\n",
    "    f.write(\"source,target,source_avatar_url,target_avatar_url\\n\")\n",
    "    for p in tqdm(databs_posts):\n",
    "        source = p.author.handle\n",
    "        source_avatar_url = p.author.avatar\n",
    "        author_follows = get_all_follows(source)\n",
    "        for follow in author_follows:\n",
    "            f.write(f\"{source},{follow.handle},{source_avatar_url},{follow.avatar}\\n\")"
   ]
  }
 ],
 "metadata": {
  "kernelspec": {
   "display_name": ".venv",
   "language": "python",
   "name": "python3"
  },
  "language_info": {
   "codemirror_mode": {
    "name": "ipython",
    "version": 3
   },
   "file_extension": ".py",
   "mimetype": "text/x-python",
   "name": "python",
   "nbconvert_exporter": "python",
   "pygments_lexer": "ipython3",
   "version": "3.12.7"
  }
 },
 "nbformat": 4,
 "nbformat_minor": 2
}
